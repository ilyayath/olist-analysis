{
  "nbformat": 4,
  "nbformat_minor": 0,
  "metadata": {
    "colab": {
      "provenance": [],
      "authorship_tag": "ABX9TyNutIqbPRn6Cb0+YoPH6jM2",
      "include_colab_link": true
    },
    "kernelspec": {
      "name": "python3",
      "display_name": "Python 3"
    },
    "language_info": {
      "name": "python"
    }
  },
  "cells": [
    {
      "cell_type": "markdown",
      "metadata": {
        "id": "view-in-github",
        "colab_type": "text"
      },
      "source": [
        "<a href=\"https://colab.research.google.com/github/ilyayath/olist-analysis/blob/main/AB_testing.ipynb\" target=\"_parent\"><img src=\"https://colab.research.google.com/assets/colab-badge.svg\" alt=\"Open In Colab\"/></a>"
      ]
    },
    {
      "cell_type": "code",
      "execution_count": 1,
      "metadata": {
        "id": "rZ5dQphUh2wv"
      },
      "outputs": [],
      "source": [
        "import numpy as np\n",
        "import pandas as pd\n",
        "import matplotlib.pyplot as plt\n",
        "import seaborn as sns\n",
        "import scipy.stats as stats"
      ]
    },
    {
      "cell_type": "code",
      "source": [
        "df = pd.read_csv('/content/df.csv')"
      ],
      "metadata": {
        "id": "JidQ8hxPiZbj"
      },
      "execution_count": 2,
      "outputs": []
    },
    {
      "cell_type": "markdown",
      "source": [
        "Нульова гіпотеза (H₀):\n",
        "Середня сума замовлення для користувачів з високими відгуками (score ≥ 4) не відрізняється від суми замовлення користувачів з низькими відгуками (score ≤ 2).\n",
        "\n",
        "    H₀: μ₁ = μ₂\n",
        "\n",
        "Альтернативна гіпотеза (H₁):\n",
        "Середня сума замовлення для користувачів з високими відгуками відрізняється (більша або менша) від суми користувачів з низькими відгуками.\n",
        "\n",
        "    H₁: μ₁ ≠ μ₂\n",
        "\n",
        "- Метрика: `payment_value`\n",
        "- Групи: review_score ≥ 4 vs review_score ≤ 2\n",
        "- Візуалізація: boxplot\n",
        "- Статистичний тест: Mann–Whitney U-test (через ненормальний розподіл)\n",
        "- Рівень значущості: α = 0.05"
      ],
      "metadata": {
        "id": "6WktxTWHh5zH"
      }
    },
    {
      "cell_type": "code",
      "source": [
        "A = df[df['review_score'] >= 4]['payment_value']\n",
        "B = df[df['review_score'] <= 2]['payment_value']"
      ],
      "metadata": {
        "id": "d1SdUXHTiOtL"
      },
      "execution_count": 3,
      "outputs": []
    },
    {
      "cell_type": "code",
      "source": [
        "A = pd.to_numeric(A, errors='coerce').dropna()\n",
        "B = pd.to_numeric(B, errors='coerce').dropna()"
      ],
      "metadata": {
        "id": "fx5WNRY_lF8W"
      },
      "execution_count": 4,
      "outputs": []
    },
    {
      "cell_type": "code",
      "source": [
        "mn, p_value = stats.mannwhitneyu(A, B, alternative='two-sided')"
      ],
      "metadata": {
        "id": "tiQ0TULpjKDn"
      },
      "execution_count": 5,
      "outputs": []
    },
    {
      "cell_type": "code",
      "source": [
        "print(f\"Середній чек (A): {A.mean():.2f}\")\n",
        "print(f\"Середній чек (B): {B.mean():.2f}\")\n",
        "print(f\"P-value: {p_value:.300f}\")"
      ],
      "metadata": {
        "colab": {
          "base_uri": "https://localhost:8080/"
        },
        "id": "MqCPDZLqlZXu",
        "outputId": "618a91e2-e57a-4242-dd8c-136bfc5a72b2"
      },
      "execution_count": 18,
      "outputs": [
        {
          "output_type": "stream",
          "name": "stdout",
          "text": [
            "Середній чек (A): 161.46\n",
            "Середній чек (B): 223.06\n",
            "P-value: 0.000000000000000000000000000000000000000000000000000000000000000000000000000000000000000000000000000000000000000000000000000000000000000000000000000000000000000000000000000000000000000000000000000000000000018429403862406079501503132329028946110167756919922060011741076482471035823331768223740205891516\n"
          ]
        }
      ]
    },
    {
      "cell_type": "code",
      "source": [
        "if p_value < 0.05:\n",
        "    print(\"Різниця статистично значуща — середні чеки різні.\")\n",
        "else:\n",
        "    print(\"Немає статистично значущої різниці між середніми чеками.\")"
      ],
      "metadata": {
        "colab": {
          "base_uri": "https://localhost:8080/"
        },
        "id": "yAX7FjPhj2FU",
        "outputId": "d439cd06-3e4c-495a-e1af-4d8407359c72"
      },
      "execution_count": 7,
      "outputs": [
        {
          "output_type": "stream",
          "name": "stdout",
          "text": [
            "Різниця статистично значуща — середні чеки різні.\n"
          ]
        }
      ]
    },
    {
      "cell_type": "code",
      "source": [
        "df_box = df[df['review_score'].isin([1.0,2.0,4.0,5.0])]\n",
        "df_box['group'] = df_box['review_score'].apply(lambda x: 'High(5-4)' if x >= 4 else 'Low(1-2)' )"
      ],
      "metadata": {
        "colab": {
          "base_uri": "https://localhost:8080/"
        },
        "id": "ddjfBC1LltGS",
        "outputId": "fa1ffc74-60ce-4bd2-e8b8-902e119d7e6e"
      },
      "execution_count": 8,
      "outputs": [
        {
          "output_type": "stream",
          "name": "stderr",
          "text": [
            "/tmp/ipython-input-108484000.py:2: SettingWithCopyWarning: \n",
            "A value is trying to be set on a copy of a slice from a DataFrame.\n",
            "Try using .loc[row_indexer,col_indexer] = value instead\n",
            "\n",
            "See the caveats in the documentation: https://pandas.pydata.org/pandas-docs/stable/user_guide/indexing.html#returning-a-view-versus-a-copy\n",
            "  df_box['group'] = df_box['review_score'].apply(lambda x: 'High(5-4)' if x >= 4 else 'Low(1-2)' )\n"
          ]
        }
      ]
    },
    {
      "cell_type": "code",
      "source": [
        "sns.set_theme(style=\"darkgrid\")\n",
        "sns.boxplot(x=df_box['group'],y=df_box['payment_value'])\n",
        "plt.ylim(0, df_box['payment_value'].quantile(0.95))\n",
        "plt.show()"
      ],
      "metadata": {
        "colab": {
          "base_uri": "https://localhost:8080/",
          "height": 458
        },
        "id": "KrsgAzcqoOuP",
        "outputId": "687caff0-f6de-48a9-839c-302fa083a78f"
      },
      "execution_count": 9,
      "outputs": [
        {
          "output_type": "display_data",
          "data": {
            "text/plain": [
              "<Figure size 640x480 with 1 Axes>"
            ],
            "image/png": "[encoded data removed]"
          },
          "metadata": {}
        }
      ]
    },
    {
      "cell_type": "markdown",
      "source": [
        "Нульова гіпотеза (H₀): Середня сума замовлення в регіоні SP така ж, як у регіоні RJ\n",
        "\n",
        "    H₀: μ_SP = μ_RJ\n",
        "\n",
        "Альтернативна гіпотеза (H₁): Середня сума замовлення у регіоні SP відрізняється від середньої суми замовлення в RJ\n",
        "\n",
        "    H₁: μ_SP ≠ μ_RJ\n",
        "\n",
        "\n",
        "- Метрика: payment_value\n",
        "\n",
        "- Групи: SP та RJ\n",
        "\n",
        "- Візуалізація: boxplot\n",
        "\n",
        "- Статистичний тест: Mann–Whitney U-test (через ненормальний розподіл)\n",
        "\n",
        "- Рівень значущості: α = 0.05\n"
      ],
      "metadata": {
        "id": "Je-Tq9BUuzyP"
      }
    },
    {
      "cell_type": "code",
      "source": [
        "A1 = df[df['customer_state'] == 'SP']['payment_value']\n",
        "B1 = df[df['customer_state'] == 'RJ']['payment_value']"
      ],
      "metadata": {
        "id": "FRi0uJS1vi1T"
      },
      "execution_count": 10,
      "outputs": []
    },
    {
      "cell_type": "code",
      "source": [
        "A1 = pd.to_numeric(A1, errors='coerce').dropna()\n",
        "B1 = pd.to_numeric(B1, errors='coerce').dropna()"
      ],
      "metadata": {
        "id": "5WEFQKUawSJ-"
      },
      "execution_count": 11,
      "outputs": []
    },
    {
      "cell_type": "code",
      "source": [
        "mn1, p_value1 = stats.mannwhitneyu(A1, B1, alternative='two-sided')"
      ],
      "metadata": {
        "id": "dZ0IIMe8vkYF"
      },
      "execution_count": 12,
      "outputs": []
    },
    {
      "cell_type": "code",
      "source": [
        "print(f\"Середній чек (A1): {A1.mean():.2f}\")\n",
        "print(f\"Середній чек (B1): {B1.mean():.2f}\")\n",
        "print(f\"P-value: {p_value1:.100f}\")"
      ],
      "metadata": {
        "colab": {
          "base_uri": "https://localhost:8080/"
        },
        "id": "wDydq16wwTsa",
        "outputId": "f845a5b8-21a6-4bb3-b9d8-83d6dadaa37b"
      },
      "execution_count": 13,
      "outputs": [
        {
          "output_type": "stream",
          "name": "stdout",
          "text": [
            "Середній чек (A1): 153.72\n",
            "Середній чек (B1): 180.15\n",
            "P-value: 0.0000000000000000000000000000000000000000000000000000000000000000000000000000000000203628839206597639\n"
          ]
        }
      ]
    },
    {
      "cell_type": "code",
      "source": [
        "if p_value1 < 0.05:\n",
        "    print(\"Різниця статистично значуща — середня сума замовлень різна.\")\n",
        "else:\n",
        "    print(\"Немає статистично значущої різниці між середніми сумами замовлень.\")"
      ],
      "metadata": {
        "colab": {
          "base_uri": "https://localhost:8080/"
        },
        "id": "PdoRFjYQwQIG",
        "outputId": "6640dbf4-61dc-42c6-9c6c-53ad1c1be72c"
      },
      "execution_count": 14,
      "outputs": [
        {
          "output_type": "stream",
          "name": "stdout",
          "text": [
            "Різниця статистично значуща — середня сума замовлень різна.\n"
          ]
        }
      ]
    },
    {
      "cell_type": "code",
      "source": [
        "df_box1 = df[df['customer_state'].isin(['SP','RJ'])]"
      ],
      "metadata": {
        "id": "D9VTFJnLy5ib"
      },
      "execution_count": 15,
      "outputs": []
    },
    {
      "cell_type": "code",
      "source": [
        "sns.set_theme(style=\"darkgrid\")\n",
        "sns.boxplot(x=df_box1['customer_state'],y=df_box1['payment_value'])\n",
        "plt.ylim(0, df_box['payment_value'].quantile(0.95))\n",
        "plt.show()"
      ],
      "metadata": {
        "colab": {
          "base_uri": "https://localhost:8080/",
          "height": 458
        },
        "id": "ikBq8smOxen-",
        "outputId": "3755eb46-e28d-4f80-e909-53e4d99d0d08"
      },
      "execution_count": 16,
      "outputs": [
        {
          "output_type": "display_data",
          "data": {
            "text/plain": [
              "<Figure size 640x480 with 1 Axes>"
            ],
            "image/png": "[encoded data removed]"
          },
          "metadata": {}
        }
      ]
    }
  ]
}