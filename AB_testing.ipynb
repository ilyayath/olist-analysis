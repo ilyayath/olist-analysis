{
  "nbformat": 4,
  "nbformat_minor": 0,
  "metadata": {
    "colab": {
      "provenance": [],
      "authorship_tag": "ABX9TyPwXvfWPXYkd5gSNXsLpsHs",
      "include_colab_link": true
    },
    "kernelspec": {
      "name": "python3",
      "display_name": "Python 3"
    },
    "language_info": {
      "name": "python"
    }
  },
  "cells": [
    {
      "cell_type": "markdown",
      "metadata": {
        "id": "view-in-github",
        "colab_type": "text"
      },
      "source": [
        "<a href=\"https://colab.research.google.com/github/ilyayath/olist-analysis/blob/main/AB_testing.ipynb\" target=\"_parent\"><img src=\"https://colab.research.google.com/assets/colab-badge.svg\" alt=\"Open In Colab\"/></a>"
      ]
    },
    {
      "cell_type": "code",
      "execution_count": 21,
      "metadata": {
        "id": "rZ5dQphUh2wv"
      },
      "outputs": [],
      "source": [
        "import numpy as np\n",
        "import pandas as pd\n",
        "import matplotlib.pyplot as plt\n",
        "import seaborn as sns\n",
        "import scipy.stats as stats"
      ]
    },
    {
      "cell_type": "code",
      "source": [
        "df = pd.read_csv('/content/df.csv')"
      ],
      "metadata": {
        "id": "JidQ8hxPiZbj"
      },
      "execution_count": 22,
      "outputs": []
    },
    {
      "cell_type": "markdown",
      "source": [
        "Нульова гіпотеза (H₀):\n",
        "Середня сума замовлення для користувачів з високими відгуками (score ≥ 4) не відрізняється від суми замовлення користувачів з низькими відгуками (score ≤ 2).\n",
        "\n",
        "    H₀: μ₁ = μ₂\n",
        "\n",
        "Альтернативна гіпотеза (H₁):\n",
        "Середня сума замовлення для користувачів з високими відгуками відрізняється (більша або менша) від суми користувачів з низькими відгуками.\n",
        "\n",
        "    H₁: μ₁ ≠ μ₂\n",
        "\n",
        "- Метрика: `payment_value`\n",
        "- Групи: review_score ≥ 4 vs review_score ≤ 2\n",
        "- Візуалізація: boxplot\n",
        "- Статистичний тест: Mann–Whitney U-test (через ненормальний розподіл)\n",
        "- Рівень значущості: α = 0.05"
      ],
      "metadata": {
        "id": "6WktxTWHh5zH"
      }
    },
    {
      "cell_type": "code",
      "source": [
        "A = df[df['review_score'] >= 4]['payment_value']\n",
        "B = df[df['review_score'] <= 2]['payment_value']"
      ],
      "metadata": {
        "id": "d1SdUXHTiOtL"
      },
      "execution_count": 23,
      "outputs": []
    },
    {
      "cell_type": "code",
      "source": [
        "A = pd.to_numeric(A, errors='coerce').dropna()\n",
        "B = pd.to_numeric(B, errors='coerce').dropna()"
      ],
      "metadata": {
        "id": "fx5WNRY_lF8W"
      },
      "execution_count": 24,
      "outputs": []
    },
    {
      "cell_type": "code",
      "source": [
        "mn, p_value = stats.mannwhitneyu(A, B, alternative='two-sided')"
      ],
      "metadata": {
        "id": "tiQ0TULpjKDn"
      },
      "execution_count": 25,
      "outputs": []
    },
    {
      "cell_type": "code",
      "source": [
        "print(f\"Середній чек (A): {A.mean():.2f}\")\n",
        "print(f\"Середній чек (B): {B.mean():.2f}\")\n",
        "print(f\"P-value: {p_value:.4f}\")"
      ],
      "metadata": {
        "colab": {
          "base_uri": "https://localhost:8080/"
        },
        "id": "MqCPDZLqlZXu",
        "outputId": "d87e6a1c-fb2b-4130-ac03-f86255d9ae94"
      },
      "execution_count": 26,
      "outputs": [
        {
          "output_type": "stream",
          "name": "stdout",
          "text": [
            "Середній чек (A): 161.40\n",
            "Середній чек (B): 224.30\n",
            "P-value: 0.0000\n"
          ]
        }
      ]
    },
    {
      "cell_type": "code",
      "source": [
        "if p_value < 0.05:\n",
        "    print(\"Різниця статистично значуща — середні чеки різні.\")\n",
        "else:\n",
        "    print(\"Немає статистично значущої різниці між середніми чеками.\")"
      ],
      "metadata": {
        "colab": {
          "base_uri": "https://localhost:8080/"
        },
        "id": "yAX7FjPhj2FU",
        "outputId": "a110edda-0c27-4914-85d2-1e862f728a62"
      },
      "execution_count": 27,
      "outputs": [
        {
          "output_type": "stream",
          "name": "stdout",
          "text": [
            "Різниця статистично значуща — середні чеки різні.\n"
          ]
        }
      ]
    },
    {
      "cell_type": "code",
      "source": [
        "df_box = df[df['review_score'].isin([1.0,2.0,4.0,5.0])]\n",
        "df_box['group'] = df_box['review_score'].apply(lambda x: 'High(5-4)' if x >= 4 else 'Low(1-2)' )"
      ],
      "metadata": {
        "colab": {
          "base_uri": "https://localhost:8080/"
        },
        "id": "ddjfBC1LltGS",
        "outputId": "d6937620-6e0a-4f45-c61d-988ff37420f2"
      },
      "execution_count": 28,
      "outputs": [
        {
          "output_type": "stream",
          "name": "stderr",
          "text": [
            "/tmp/ipython-input-28-108484000.py:2: SettingWithCopyWarning: \n",
            "A value is trying to be set on a copy of a slice from a DataFrame.\n",
            "Try using .loc[row_indexer,col_indexer] = value instead\n",
            "\n",
            "See the caveats in the documentation: https://pandas.pydata.org/pandas-docs/stable/user_guide/indexing.html#returning-a-view-versus-a-copy\n",
            "  df_box['group'] = df_box['review_score'].apply(lambda x: 'High(5-4)' if x >= 4 else 'Low(1-2)' )\n"
          ]
        }
      ]
    },
    {
      "cell_type": "code",
      "source": [
        "sns.set_theme(style=\"darkgrid\")\n",
        "sns.boxplot(x=df_box['group'],y=df_box['payment_value'])\n",
        "plt.ylim(0, df_box['payment_value'].quantile(0.95))\n",
        "plt.show()"
      ],
      "metadata": {
        "colab": {
          "base_uri": "https://localhost:8080/",
          "height": 458
        },
        "id": "KrsgAzcqoOuP",
        "outputId": "e5dd63d7-8f97-40fa-dc6e-6d3f5e407ac7"
      },
      "execution_count": 29,
      "outputs": [
        {
          "output_type": "display_data",
          "data": {
            "text/plain": [
              "<Figure size 640x480 with 1 Axes>"
            ],
            "image/png": "[encoded data removed]"
          },
          "metadata": {}
        }
      ]
    },
    {
      "cell_type": "markdown",
      "source": [
        "Нульова гіпотеза (H₀): Середня сума замовлення в регіоні SP така ж, як у регіоні RJ\n",
        "\n",
        "    H₀: μ_SP = μ_RJ\n",
        "\n",
        "Альтернативна гіпотеза (H₁): Середній чек у регіоні SP відрізняється від середнього чеку в RJ\n",
        "\n",
        "    H₁: μ_SP ≠ μ_RJ\n",
        "\n",
        "\n",
        "- Метрика: payment_value\n",
        "\n",
        "- Групи: SP та RJ\n",
        "\n",
        "- Візуалізація: boxplot\n",
        "\n",
        "- Статистичний тест: Mann–Whitney U-test (через ненормальний розподіл)\n",
        "\n",
        "- Рівень значущості: α = 0.05\n"
      ],
      "metadata": {
        "id": "Je-Tq9BUuzyP"
      }
    },
    {
      "cell_type": "code",
      "source": [
        "A1 = df[df['customer_state'] == 'SP']['payment_value']\n",
        "B1 = df[df['customer_state'] == 'RJ']['payment_value']"
      ],
      "metadata": {
        "id": "FRi0uJS1vi1T"
      },
      "execution_count": 30,
      "outputs": []
    },
    {
      "cell_type": "code",
      "source": [
        "A1 = pd.to_numeric(A1, errors='coerce').dropna()\n",
        "B1 = pd.to_numeric(B1, errors='coerce').dropna()"
      ],
      "metadata": {
        "id": "5WEFQKUawSJ-"
      },
      "execution_count": 31,
      "outputs": []
    },
    {
      "cell_type": "code",
      "source": [
        "mn1, p_value1 = stats.mannwhitneyu(A1, B1, alternative='two-sided')"
      ],
      "metadata": {
        "id": "dZ0IIMe8vkYF"
      },
      "execution_count": 32,
      "outputs": []
    },
    {
      "cell_type": "code",
      "source": [
        "print(f\"Середній чек (A1): {A1.mean():.2f}\")\n",
        "print(f\"Середній чек (B1): {B1.mean():.2f}\")\n",
        "print(f\"P-value: {p_value1:.4f}\")"
      ],
      "metadata": {
        "colab": {
          "base_uri": "https://localhost:8080/"
        },
        "id": "wDydq16wwTsa",
        "outputId": "7baf0975-8c0d-4a42-cc27-528a5a38d90e"
      },
      "execution_count": 33,
      "outputs": [
        {
          "output_type": "stream",
          "name": "stdout",
          "text": [
            "Середній чек (A1): 152.76\n",
            "Середній чек (B1): 180.42\n",
            "P-value: 0.0000\n"
          ]
        }
      ]
    },
    {
      "cell_type": "code",
      "source": [
        "if p_value1 < 0.05:\n",
        "    print(\"Різниця статистично значуща — середні чеки різні.\")\n",
        "else:\n",
        "    print(\"Немає статистично значущої різниці між середніми чеками.\")"
      ],
      "metadata": {
        "colab": {
          "base_uri": "https://localhost:8080/"
        },
        "id": "PdoRFjYQwQIG",
        "outputId": "614f6c0f-934d-41f0-c9f3-b8712895d663"
      },
      "execution_count": 34,
      "outputs": [
        {
          "output_type": "stream",
          "name": "stdout",
          "text": [
            "Різниця статистично значуща — середні чеки різні.\n"
          ]
        }
      ]
    },
    {
      "cell_type": "code",
      "source": [
        "df_box1 = df[df['customer_state'].isin(['SP','RJ'])]"
      ],
      "metadata": {
        "id": "D9VTFJnLy5ib"
      },
      "execution_count": 35,
      "outputs": []
    },
    {
      "cell_type": "code",
      "source": [
        "sns.set_theme(style=\"darkgrid\")\n",
        "sns.boxplot(x=df_box1['customer_state'],y=df_box1['payment_value'])\n",
        "plt.ylim(0, df_box['payment_value'].quantile(0.95))\n",
        "plt.show()"
      ],
      "metadata": {
        "colab": {
          "base_uri": "https://localhost:8080/",
          "height": 458
        },
        "id": "ikBq8smOxen-",
        "outputId": "fe6bda6c-5c46-45a7-ca4c-bdf7381511f8"
      },
      "execution_count": 36,
      "outputs": [
        {
          "output_type": "display_data",
          "data": {
            "text/plain": [
              "<Figure size 640x480 with 1 Axes>"
            ],
            "image/png": "[encoded data removed]"
          },
          "metadata": {}
        }
      ]
    }
  ]
}